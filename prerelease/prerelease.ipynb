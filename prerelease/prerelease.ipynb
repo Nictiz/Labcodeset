{
 "cells": [
  {
   "cell_type": "markdown",
   "metadata": {},
   "source": [
    "# Intro\n",
    "Klik bij iedere cell op 'Run'. Controleer de uitvoer. Notebooks geven een stap-voor-stap uitvoering van code, waardoor gekeken kan worden of het goed verloopt."
   ]
  },
  {
   "cell_type": "code",
   "execution_count": 6,
   "metadata": {
    "tags": []
   },
   "outputs": [],
   "source": [
    "import pandas as pd\n",
    "import requests\n",
    "import xml.etree.ElementTree as ET\n",
    "\n",
    "def to_xml(df, file_name=None, root_name='root', row_name='row', index_name='index', do_index=False, use_atts=False):\n",
    "    root = ET.Element(root_name)\n",
    "    tree = ET.ElementTree(root)\n",
    "    for idx, row in df.iterrows():\n",
    "        rowelm = ET.SubElement(root, row_name)\n",
    "        if do_index:\n",
    "            if use_atts:\n",
    "                rowelm.set(index_name, str(idx))\n",
    "            else:\n",
    "                colelm = ET.SubElement(rowelm, index_name)\n",
    "                colelm.text = str(idx)\n",
    "        for hdr, val in row.items():\n",
    "            hdr = hdr.replace(' ', '_')\n",
    "            if pd.notnull(val):\n",
    "                val = str(val)\n",
    "            else:\n",
    "                val = ''\n",
    "            if use_atts:\n",
    "                rowelm.set(hdr, str(val))\n",
    "            else:\n",
    "                colelm = ET.SubElement(rowelm, hdr)\n",
    "                colelm.text = str(val)\n",
    "    if file_name is not None:\n",
    "        tree.write(file_name, xml_declaration=False, encoding='utf8')\n",
    "    return ET.tostring(root)"
   ]
  },
  {
   "cell_type": "markdown",
   "metadata": {},
   "source": [
    "# Lees prerelease\n",
    "De prerelease HTML tabel wordt van de LOINC site gelezen. Het kan even duren.\n",
    "\n",
    "Controleer de output! Verwacht wordt een tabel zoals op de LOINC site te zien, als de LOINC HTML wijzigt kan dit niet goed gaan.\n",
    "\n",
    "(Noot: de sumission queue heeft meer details, mogelijk kan dit ook een bron zijn.)"
   ]
  },
  {
   "cell_type": "code",
   "execution_count": 7,
   "metadata": {
    "tags": []
   },
   "outputs": [
    {
     "data": {
      "text/html": [
       "<div>\n",
       "<style scoped>\n",
       "    .dataframe tbody tr th:only-of-type {\n",
       "        vertical-align: middle;\n",
       "    }\n",
       "\n",
       "    .dataframe tbody tr th {\n",
       "        vertical-align: top;\n",
       "    }\n",
       "\n",
       "    .dataframe thead th {\n",
       "        text-align: right;\n",
       "    }\n",
       "</style>\n",
       "<table border=\"1\" class=\"dataframe\">\n",
       "  <thead>\n",
       "    <tr style=\"text-align: right;\">\n",
       "      <th></th>\n",
       "      <th>Created On</th>\n",
       "      <th>LOINC</th>\n",
       "      <th>Long Common Name</th>\n",
       "      <th>Special Use</th>\n",
       "      <th>Component</th>\n",
       "      <th>Prop</th>\n",
       "      <th>Time</th>\n",
       "      <th>System</th>\n",
       "      <th>Scale</th>\n",
       "      <th>Method</th>\n",
       "      <th>Shortname</th>\n",
       "    </tr>\n",
       "  </thead>\n",
       "  <tbody>\n",
       "    <tr>\n",
       "      <th>0</th>\n",
       "      <td>2023-09-22</td>\n",
       "      <td>103557-5</td>\n",
       "      <td>SARS-CoV-2 (COVID-19) Mpro gene mutation detec...</td>\n",
       "      <td>Special Use codes are developed in response to...</td>\n",
       "      <td>SARS coronavirus 2 Mpro gene mutation detected</td>\n",
       "      <td>Prid</td>\n",
       "      <td>Pt</td>\n",
       "      <td>XXX</td>\n",
       "      <td>Nom</td>\n",
       "      <td>Molgen</td>\n",
       "      <td>SARS-CoV-2 Mpro gene mut Spec</td>\n",
       "    </tr>\n",
       "    <tr>\n",
       "      <th>1</th>\n",
       "      <td>2023-08-23</td>\n",
       "      <td>103556-7</td>\n",
       "      <td>PLA2G7 and PLAC8 gene expression level [# Rati...</td>\n",
       "      <td>NaN</td>\n",
       "      <td>PLA2G7 &amp; PLAC8 gene expression level</td>\n",
       "      <td>NRto</td>\n",
       "      <td>Pt</td>\n",
       "      <td>Bld</td>\n",
       "      <td>Qn</td>\n",
       "      <td>Molgen</td>\n",
       "      <td>NaN</td>\n",
       "    </tr>\n",
       "    <tr>\n",
       "      <th>2</th>\n",
       "      <td>2023-08-15</td>\n",
       "      <td>103555-9</td>\n",
       "      <td>Escherichia coli O157:H7 DNA [Presence] in Wou...</td>\n",
       "      <td>NaN</td>\n",
       "      <td>Escherichia coli O157:H7 DNA</td>\n",
       "      <td>PrThr</td>\n",
       "      <td>Pt</td>\n",
       "      <td>Wound</td>\n",
       "      <td>Ord</td>\n",
       "      <td>Probe.amp.tar</td>\n",
       "      <td>NaN</td>\n",
       "    </tr>\n",
       "  </tbody>\n",
       "</table>\n",
       "</div>"
      ],
      "text/plain": [
       "   Created On     LOINC                                   Long Common Name  \\\n",
       "0  2023-09-22  103557-5  SARS-CoV-2 (COVID-19) Mpro gene mutation detec...   \n",
       "1  2023-08-23  103556-7  PLA2G7 and PLAC8 gene expression level [# Rati...   \n",
       "2  2023-08-15  103555-9  Escherichia coli O157:H7 DNA [Presence] in Wou...   \n",
       "\n",
       "                                         Special Use  \\\n",
       "0  Special Use codes are developed in response to...   \n",
       "1                                                NaN   \n",
       "2                                                NaN   \n",
       "\n",
       "                                        Component   Prop Time System Scale  \\\n",
       "0  SARS coronavirus 2 Mpro gene mutation detected   Prid   Pt    XXX   Nom   \n",
       "1            PLA2G7 & PLAC8 gene expression level   NRto   Pt    Bld    Qn   \n",
       "2                    Escherichia coli O157:H7 DNA  PrThr   Pt  Wound   Ord   \n",
       "\n",
       "          Method                      Shortname  \n",
       "0         Molgen  SARS-CoV-2 Mpro gene mut Spec  \n",
       "1         Molgen                            NaN  \n",
       "2  Probe.amp.tar                            NaN  "
      ]
     },
     "execution_count": 7,
     "metadata": {},
     "output_type": "execute_result"
    }
   ],
   "source": [
    "uri = 'https://loinc.org/prerelease/'\n",
    "# uri = 'https://loinc.org/submissions/queue/'\n",
    "prerelease = pd.read_html(uri)[0]\n",
    "prerelease"
   ]
  },
  {
   "cell_type": "markdown",
   "metadata": {},
   "source": [
    "# Formatteren van de headers"
   ]
  },
  {
   "cell_type": "code",
   "execution_count": 8,
   "metadata": {
    "tags": []
   },
   "outputs": [
    {
     "data": {
      "text/html": [
       "<div>\n",
       "<style scoped>\n",
       "    .dataframe tbody tr th:only-of-type {\n",
       "        vertical-align: middle;\n",
       "    }\n",
       "\n",
       "    .dataframe tbody tr th {\n",
       "        vertical-align: top;\n",
       "    }\n",
       "\n",
       "    .dataframe thead th {\n",
       "        text-align: right;\n",
       "    }\n",
       "</style>\n",
       "<table border=\"1\" class=\"dataframe\">\n",
       "  <thead>\n",
       "    <tr style=\"text-align: right;\">\n",
       "      <th></th>\n",
       "      <th>LOINC</th>\n",
       "      <th>longName</th>\n",
       "      <th>component</th>\n",
       "      <th>property</th>\n",
       "      <th>timing</th>\n",
       "      <th>system</th>\n",
       "      <th>scale</th>\n",
       "      <th>method</th>\n",
       "      <th>shortName</th>\n",
       "    </tr>\n",
       "  </thead>\n",
       "  <tbody>\n",
       "    <tr>\n",
       "      <th>0</th>\n",
       "      <td>103557-5</td>\n",
       "      <td>SARS-CoV-2 (COVID-19) Mpro gene mutation detec...</td>\n",
       "      <td>SARS coronavirus 2 Mpro gene mutation detected</td>\n",
       "      <td>Prid</td>\n",
       "      <td>Pt</td>\n",
       "      <td>XXX</td>\n",
       "      <td>Nom</td>\n",
       "      <td>Molgen</td>\n",
       "      <td>SARS-CoV-2 Mpro gene mut Spec</td>\n",
       "    </tr>\n",
       "    <tr>\n",
       "      <th>1</th>\n",
       "      <td>103556-7</td>\n",
       "      <td>PLA2G7 and PLAC8 gene expression level [# Rati...</td>\n",
       "      <td>PLA2G7 &amp; PLAC8 gene expression level</td>\n",
       "      <td>NRto</td>\n",
       "      <td>Pt</td>\n",
       "      <td>Bld</td>\n",
       "      <td>Qn</td>\n",
       "      <td>Molgen</td>\n",
       "      <td>NaN</td>\n",
       "    </tr>\n",
       "    <tr>\n",
       "      <th>2</th>\n",
       "      <td>103555-9</td>\n",
       "      <td>Escherichia coli O157:H7 DNA [Presence] in Wou...</td>\n",
       "      <td>Escherichia coli O157:H7 DNA</td>\n",
       "      <td>PrThr</td>\n",
       "      <td>Pt</td>\n",
       "      <td>Wound</td>\n",
       "      <td>Ord</td>\n",
       "      <td>Probe.amp.tar</td>\n",
       "      <td>NaN</td>\n",
       "    </tr>\n",
       "  </tbody>\n",
       "</table>\n",
       "</div>"
      ],
      "text/plain": [
       "      LOINC                                           longName  \\\n",
       "0  103557-5  SARS-CoV-2 (COVID-19) Mpro gene mutation detec...   \n",
       "1  103556-7  PLA2G7 and PLAC8 gene expression level [# Rati...   \n",
       "2  103555-9  Escherichia coli O157:H7 DNA [Presence] in Wou...   \n",
       "\n",
       "                                        component property timing system  \\\n",
       "0  SARS coronavirus 2 Mpro gene mutation detected     Prid     Pt    XXX   \n",
       "1            PLA2G7 & PLAC8 gene expression level     NRto     Pt    Bld   \n",
       "2                    Escherichia coli O157:H7 DNA    PrThr     Pt  Wound   \n",
       "\n",
       "  scale         method                      shortName  \n",
       "0   Nom         Molgen  SARS-CoV-2 Mpro gene mut Spec  \n",
       "1    Qn         Molgen                            NaN  \n",
       "2   Ord  Probe.amp.tar                            NaN  "
      ]
     },
     "execution_count": 8,
     "metadata": {},
     "output_type": "execute_result"
    }
   ],
   "source": [
    "prerelease.drop(['Created On', 'Special Use'], axis=1, inplace=True)\n",
    "prerelease.columns = ['LOINC', 'longName', 'component', 'property', 'timing', 'system', 'scale', 'method', 'shortName']\n",
    "prerelease.head()"
   ]
  },
  {
   "cell_type": "markdown",
   "metadata": {},
   "source": [
    "# Maak XML\n",
    "Het dataframe wordt geëxporteerd naar XML.\n",
    "Vul target, usernaam, password in. Let op: eerst de cell runnen, dan waarden invullen. Cell niet opnieuw runnen, dat zet de default waarden terug."
   ]
  },
  {
   "cell_type": "code",
   "execution_count": 9,
   "metadata": {
    "tags": []
   },
   "outputs": [],
   "source": [
    "xml = to_xml(prerelease, 'prerelease.xml', root_name='prerelease', row_name='concept')"
   ]
  },
  {
   "cell_type": "code",
   "execution_count": 19,
   "metadata": {
    "tags": []
   },
   "outputs": [
    {
     "data": {
      "application/vnd.jupyter.widget-view+json": {
       "model_id": "81a147fdeae2483cac51a434f663c70b",
       "version_major": 2,
       "version_minor": 0
      },
      "text/plain": [
       "VBox(children=(Dropdown(description='Target:', options=(('Productie', 'https://labterminologie.nl/lab/prerelea…"
      ]
     },
     "execution_count": 19,
     "metadata": {},
     "output_type": "execute_result"
    }
   ],
   "source": [
    "import ipywidgets as widgets\n",
    "targeturi = widgets.Dropdown(\n",
    "    options=[('Productie', 'https://labterminologie.nl/lab/prerelease'),\n",
    "             ('Acceptatie', 'https://terminologie.test-nictiz.nl/lab/prerelease'),\n",
    "             ('Lokaal', 'http://localhost:8877/exist/apps/lab-data/data/prerelease.xml')],\n",
    "    description='Target:',\n",
    ")\n",
    "usr = widgets.Text(description='Username')\n",
    "pwd = widgets.Password(description='Password')\n",
    "widgets.VBox([\n",
    "  targeturi, usr, pwd\n",
    "])"
   ]
  },
  {
   "cell_type": "code",
   "execution_count": 20,
   "metadata": {
    "tags": []
   },
   "outputs": [
    {
     "data": {
      "text/plain": [
       "'http://localhost:8877/exist/apps/lab-data/data/prerelease.xml'"
      ]
     },
     "execution_count": 20,
     "metadata": {},
     "output_type": "execute_result"
    }
   ],
   "source": [
    "targeturi.value"
   ]
  },
  {
   "cell_type": "markdown",
   "metadata": {},
   "source": [
    "\n",
    "# Upload naar de server\n",
    "Verwachte uitvoer: (HTTP status) 201, dat is 'Created'"
   ]
  },
  {
   "cell_type": "code",
   "execution_count": 21,
   "metadata": {
    "tags": []
   },
   "outputs": [
    {
     "data": {
      "text/plain": [
       "201"
      ]
     },
     "execution_count": 21,
     "metadata": {},
     "output_type": "execute_result"
    }
   ],
   "source": [
    "resp = requests.put(targeturi.value, data=xml, auth=requests.auth.HTTPBasicAuth(usr.value, pwd.value))\n",
    "pwd.value = ''\n",
    "resp.status_code"
   ]
  },
  {
   "cell_type": "markdown",
   "metadata": {},
   "source": [
    "# Controleer de uitvoer\n",
    "Onderstaande links voeren naar de prerelease tabel zoals zojuist geüpload.\n",
    "\n",
    "[prerelease productie](http://labterminologie.nl/lab/prerelease)\n",
    "\n",
    "[prerelease acceptatie](https://terminologie.test-nictiz.nl/lab/prerelease)\n",
    "\n",
    "[prerelease lokaal](http://localhost:8877/exist/apps/lab-data/data/prerelease.xml)"
   ]
  }
 ],
 "metadata": {
  "kernelspec": {
   "display_name": "Python 3 (ipykernel)",
   "language": "python",
   "name": "python3"
  },
  "language_info": {
   "codemirror_mode": {
    "name": "ipython",
    "version": 3
   },
   "file_extension": ".py",
   "mimetype": "text/x-python",
   "name": "python",
   "nbconvert_exporter": "python",
   "pygments_lexer": "ipython3",
   "version": "3.8.17"
  }
 },
 "nbformat": 4,
 "nbformat_minor": 4
}
