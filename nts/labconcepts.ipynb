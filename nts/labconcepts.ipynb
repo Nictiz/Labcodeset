{
 "cells": [
  {
   "cell_type": "markdown",
   "id": "lpL6w770Sb0y",
   "metadata": {
    "id": "lpL6w770Sb0y"
   },
   "source": [
    "# Labcodeset\n",
    "Load used libraries\n"
   ]
  },
  {
   "cell_type": "code",
   "execution_count": 1,
   "id": "violent-extra",
   "metadata": {
    "id": "violent-extra"
   },
   "outputs": [],
   "source": [
    "#!pip install xlsxwriter\n",
    "import getpass\n",
    "import requests\n",
    "import pandas as pd\n",
    "from IPython.display import JSON"
   ]
  },
  {
   "cell_type": "markdown",
   "id": "VbIdisZRSpTz",
   "metadata": {
    "id": "VbIdisZRSpTz"
   },
   "source": [
    "Get credentials for the National Terminology Server"
   ]
  },
  {
   "cell_type": "code",
   "execution_count": 2,
   "id": "disabled-belize",
   "metadata": {
    "id": "disabled-belize"
   },
   "outputs": [
    {
     "name": "stdin",
     "output_type": "stream",
     "text": [
      "NTS password:  ··········\n"
     ]
    }
   ],
   "source": [
    "# username=input(\"NTS username: \")\n",
    "username = 'marcdegraauw@gmail.com'\n",
    "password = getpass.getpass(\"NTS password: \")"
   ]
  },
  {
   "cell_type": "markdown",
   "id": "Y4qB44v2S0Dz",
   "metadata": {
    "id": "Y4qB44v2S0Dz"
   },
   "source": [
    "Get an access token using the credentials"
   ]
  },
  {
   "cell_type": "code",
   "execution_count": 15,
   "id": "fitted-arrow",
   "metadata": {
    "id": "fitted-arrow"
   },
   "outputs": [],
   "source": [
    "url = \"https://terminologieserver.nl/auth/realms/nictiz/protocol/openid-connect/token\"\n",
    "\n",
    "payload='username='+username+'&password='+password+'&grant_type=password&client_id=cli_client'\n",
    "headers = { 'Content-Type': 'application/x-www-form-urlencoded' }\n",
    "\n",
    "response = requests.request(\"POST\", url, headers=headers, data=payload)\n",
    "\n",
    "token = response.json()\n",
    "access_token = token[\"access_token\"]\n",
    "\n",
    "#print(access_token)"
   ]
  },
  {
   "cell_type": "code",
   "execution_count": 16,
   "id": "1690d3fc-f4b5-430a-8bd3-317da89751a9",
   "metadata": {},
   "outputs": [
    {
     "data": {
      "text/plain": [
       "{'resourceType': 'Parameters',\n",
       " 'parameter': [{'name': 'name', 'valueString': 'Labconcepts'},\n",
       "  {'name': 'system',\n",
       "   'valueString': 'http://labterminologie.nl/cs/labconcepts'},\n",
       "  {'name': 'version', 'valueString': '20210503'},\n",
       "  {'name': 'display',\n",
       "   'valueString': 'Amoxicilline [gevoeligheid] in isolaat d.m.v. agardiffusie'},\n",
       "  {'name': 'designation',\n",
       "   'part': [{'name': 'language', 'valueCode': 'en'},\n",
       "    {'name': 'use',\n",
       "     'valueCoding': {'system': 'http://snomed.info/sct',\n",
       "      'code': '900000000000013009',\n",
       "      'display': 'Synonym'}},\n",
       "    {'name': 'value',\n",
       "     'valueString': 'Amoxicillin [Susceptibility] by Disk diffusion (KB)'}]},\n",
       "  {'name': 'designation',\n",
       "   'part': [{'name': 'language', 'valueCode': 'nl-NL'},\n",
       "    {'name': 'use',\n",
       "     'valueCoding': {'system': 'http://terminology.hl7.org/CodeSystem/designation-usage',\n",
       "      'code': 'display'}},\n",
       "    {'name': 'value',\n",
       "     'valueString': 'Amoxicilline [gevoeligheid] in isolaat d.m.v. agardiffusie'}]},\n",
       "  {'name': 'property',\n",
       "   'part': [{'name': 'code', 'valueCode': 'SYSTEM'},\n",
       "    {'name': 'valueCoding',\n",
       "     'valueCoding': {'system': 'http://loinc.org', 'code': 'LP7370-2'}}]},\n",
       "  {'name': 'property',\n",
       "   'part': [{'name': 'code', 'valueCode': 'TIME_ASPCT'},\n",
       "    {'name': 'valueCoding',\n",
       "     'valueCoding': {'system': 'http://loinc.org', 'code': 'LP6960-1'}}]},\n",
       "  {'name': 'property',\n",
       "   'part': [{'name': 'code', 'valueCode': 'PROPERTY'},\n",
       "    {'name': 'valueCoding',\n",
       "     'valueCoding': {'system': 'http://loinc.org', 'code': 'LP6870-2'}}]},\n",
       "  {'name': 'property',\n",
       "   'part': [{'name': 'code', 'valueCode': 'METHOD_TYP'},\n",
       "    {'name': 'valueCoding',\n",
       "     'valueCoding': {'system': 'http://loinc.org', 'code': 'LP6105-3'}}]},\n",
       "  {'name': 'property',\n",
       "   'part': [{'name': 'code', 'valueCode': 'SCALE_TYP'},\n",
       "    {'name': 'valueCoding',\n",
       "     'valueCoding': {'system': 'http://loinc.org', 'code': 'LP7752-1'}}]},\n",
       "  {'name': 'property',\n",
       "   'part': [{'name': 'code', 'valueCode': 'CLASS'},\n",
       "    {'name': 'valueString', 'valueString': 'ABXBACT'}]},\n",
       "  {'name': 'property',\n",
       "   'part': [{'name': 'code', 'valueCode': 'STATUS'},\n",
       "    {'name': 'valueString', 'valueString': 'active'}]},\n",
       "  {'name': 'property',\n",
       "   'part': [{'name': 'code', 'valueCode': 'EXAMPLE_UCUM_UNITS'},\n",
       "    {'name': 'valueCoding',\n",
       "     'valueCoding': {'system': 'http://unitsofmeasure.org', 'code': 'mm'}}]},\n",
       "  {'name': 'property',\n",
       "   'part': [{'name': 'code', 'valueCode': 'COMPONENT'},\n",
       "    {'name': 'valueCoding',\n",
       "     'valueCoding': {'system': 'http://loinc.org', 'code': 'LP15265-9'}}]},\n",
       "  {'name': 'property',\n",
       "   'part': [{'name': 'code', 'valueCode': 'MATERIAL'},\n",
       "    {'name': 'valueCoding',\n",
       "     'valueCoding': {'system': 'http://snomed.info/sct',\n",
       "      'code': '119303007'}}]}]}"
      ]
     },
     "execution_count": 16,
     "metadata": {},
     "output_type": "execute_result"
    }
   ],
   "source": [
    "def lookupcode(code):\n",
    "    url = \"https://terminologieserver.nl/\" + \"fhir/CodeSystem/$lookup?system=http://labterminologie.nl/cs/labconcepts&property=*&code=\" + code\n",
    "    headers = { 'Authorization': 'Bearer ' + access_token }\n",
    "    response = requests.request(\"GET\", url, headers=headers, data=payload)\n",
    "    return response.json()\n",
    "# lookupcode('LP7370-2')\n",
    "lookupcode('17-4')"
   ]
  },
  {
   "cell_type": "code",
   "execution_count": 17,
   "id": "5bfc71e1-3971-4ddf-b2ab-a4c8479b2fe4",
   "metadata": {},
   "outputs": [
    {
     "data": {
      "text/plain": [
       "'allantoïne'"
      ]
     },
     "execution_count": 17,
     "metadata": {},
     "output_type": "execute_result"
    }
   ],
   "source": [
    "def displaynl(code):\n",
    "    data = lookupcode(code)\n",
    "    try:\n",
    "        for param in data['parameter']:\n",
    "            if param['name'] == 'display':\n",
    "                return param['valueString']\n",
    "    except KeyError:\n",
    "        pass\n",
    "    return None\n",
    "displaynl('LP65332-6')"
   ]
  },
  {
   "cell_type": "code",
   "execution_count": 18,
   "id": "d01ff743-e01e-4937-b4f8-eb172121afa3",
   "metadata": {},
   "outputs": [
    {
     "data": {
      "text/plain": [
       "'serum'"
      ]
     },
     "execution_count": 18,
     "metadata": {},
     "output_type": "execute_result"
    }
   ],
   "source": [
    "def lookupmaterial(code):\n",
    "    url = \"https://terminologieserver.nl/\" + \"fhir/ConceptMap/$translate?url=http://labterminologie.nl/cm/labconcepts-materials&system=http://loinc.org&target=http://snomed.info/sct&code=\" + code\n",
    "    headers = { 'Authorization': 'Bearer ' + access_token }\n",
    "    response = requests.request(\"GET\", url, headers=headers, data=payload)\n",
    "    return response.json()\n",
    "\n",
    "def displaymat(code):\n",
    "    data = lookupmaterial(code)\n",
    "    try:\n",
    "        return data['parameter'][1]['part'][1]['valueCoding']['display']\n",
    "    except KeyError:\n",
    "        pass\n",
    "    return None\n",
    "displaymat('73837-7')"
   ]
  },
  {
   "cell_type": "markdown",
   "id": "XKorwYf2S6_8",
   "metadata": {
    "id": "XKorwYf2S6_8"
   },
   "source": [
    "Search ValueSets with title TNMVersieCodeLijst"
   ]
  },
  {
   "cell_type": "code",
   "execution_count": 21,
   "id": "abstract-guide",
   "metadata": {
    "id": "abstract-guide"
   },
   "outputs": [
    {
     "data": {
      "application/json": {
       "parameter": [
        {
         "name": "name",
         "valueString": "Labconcepts"
        },
        {
         "name": "system",
         "valueString": "http://labterminologie.nl/cs/labconcepts"
        },
        {
         "name": "version",
         "valueString": "20210503"
        },
        {
         "name": "display",
         "valueString": "Amoxicilline [gevoeligheid] in isolaat d.m.v. agardiffusie"
        },
        {
         "name": "designation",
         "part": [
          {
           "name": "language",
           "valueCode": "en"
          },
          {
           "name": "use",
           "valueCoding": {
            "code": "900000000000013009",
            "display": "Synonym",
            "system": "http://snomed.info/sct"
           }
          },
          {
           "name": "value",
           "valueString": "Amoxicillin [Susceptibility] by Disk diffusion (KB)"
          }
         ]
        },
        {
         "name": "designation",
         "part": [
          {
           "name": "language",
           "valueCode": "nl-NL"
          },
          {
           "name": "use",
           "valueCoding": {
            "code": "display",
            "system": "http://terminology.hl7.org/CodeSystem/designation-usage"
           }
          },
          {
           "name": "value",
           "valueString": "Amoxicilline [gevoeligheid] in isolaat d.m.v. agardiffusie"
          }
         ]
        },
        {
         "name": "property",
         "part": [
          {
           "name": "code",
           "valueCode": "SYSTEM"
          },
          {
           "name": "valueCoding",
           "valueCoding": {
            "code": "LP7370-2",
            "system": "http://loinc.org"
           }
          }
         ]
        },
        {
         "name": "property",
         "part": [
          {
           "name": "code",
           "valueCode": "TIME_ASPCT"
          },
          {
           "name": "valueCoding",
           "valueCoding": {
            "code": "LP6960-1",
            "system": "http://loinc.org"
           }
          }
         ]
        },
        {
         "name": "property",
         "part": [
          {
           "name": "code",
           "valueCode": "PROPERTY"
          },
          {
           "name": "valueCoding",
           "valueCoding": {
            "code": "LP6870-2",
            "system": "http://loinc.org"
           }
          }
         ]
        },
        {
         "name": "property",
         "part": [
          {
           "name": "code",
           "valueCode": "METHOD_TYP"
          },
          {
           "name": "valueCoding",
           "valueCoding": {
            "code": "LP6105-3",
            "system": "http://loinc.org"
           }
          }
         ]
        },
        {
         "name": "property",
         "part": [
          {
           "name": "code",
           "valueCode": "SCALE_TYP"
          },
          {
           "name": "valueCoding",
           "valueCoding": {
            "code": "LP7752-1",
            "system": "http://loinc.org"
           }
          }
         ]
        },
        {
         "name": "property",
         "part": [
          {
           "name": "code",
           "valueCode": "CLASS"
          },
          {
           "name": "valueString",
           "valueString": "ABXBACT"
          }
         ]
        },
        {
         "name": "property",
         "part": [
          {
           "name": "code",
           "valueCode": "STATUS"
          },
          {
           "name": "valueString",
           "valueString": "active"
          }
         ]
        },
        {
         "name": "property",
         "part": [
          {
           "name": "code",
           "valueCode": "EXAMPLE_UCUM_UNITS"
          },
          {
           "name": "valueCoding",
           "valueCoding": {
            "code": "mm",
            "system": "http://unitsofmeasure.org"
           }
          }
         ]
        },
        {
         "name": "property",
         "part": [
          {
           "name": "code",
           "valueCode": "COMPONENT"
          },
          {
           "name": "valueCoding",
           "valueCoding": {
            "code": "LP15265-9",
            "system": "http://loinc.org"
           }
          }
         ]
        },
        {
         "name": "property",
         "part": [
          {
           "name": "code",
           "valueCode": "MATERIAL"
          },
          {
           "name": "valueCoding",
           "valueCoding": {
            "code": "119303007",
            "system": "http://snomed.info/sct"
           }
          }
         ]
        }
       ],
       "resourceType": "Parameters"
      },
      "text/plain": [
       "<IPython.core.display.JSON object>"
      ]
     },
     "execution_count": 21,
     "metadata": {
      "application/json": {
       "expanded": false,
       "root": "root"
      }
     },
     "output_type": "execute_result"
    }
   ],
   "source": [
    "loinc = \"17-4\"\n",
    "data = lookupcode(loinc)\n",
    "JSON(data)"
   ]
  },
  {
   "cell_type": "code",
   "execution_count": 22,
   "id": "handmade-parade",
   "metadata": {
    "id": "handmade-parade"
   },
   "outputs": [
    {
     "name": "stdout",
     "output_type": "stream",
     "text": [
      "name:  Labconcepts\n",
      "system:  http://labterminologie.nl/cs/labconcepts\n",
      "version:  20210503\n",
      "display:  Amoxicilline [gevoeligheid] in isolaat d.m.v. agardiffusie\n",
      "Amoxicillin [Susceptibility] by Disk diffusion (KB) (en)\n",
      "Amoxicilline [gevoeligheid] in isolaat d.m.v. agardiffusie (nl-NL)\n",
      "SYSTEM:  isolaat\n",
      "TIME_ASPCT:  moment\n",
      "PROPERTY:  gevoeligheid\n",
      "METHOD_TYP:  agardiffusie\n",
      "SCALE_TYP:  ordinaal-kwantitatief\n",
      "CLASS:  ABXBACT\n",
      "STATUS:  active\n",
      "EXAMPLE_UCUM_UNITS:  mm\n",
      "COMPONENT:  amoxicilline\n",
      "MATERIAL:  isolaat van micro-organisme\n"
     ]
    }
   ],
   "source": [
    "for param in data['parameter']:\n",
    "    if not('name' in param):\n",
    "        print('Error')\n",
    "    elif param['name'] == 'designation':\n",
    "        lang = param['part'][0]['valueCode']\n",
    "        print(param['part'][2]['valueString'] + ' (' + lang + ')')\n",
    "    elif param['name'] == 'property':\n",
    "        for key in param.keys():\n",
    "            if key == 'part':\n",
    "                for pt in param[key][0]:\n",
    "                    if 'name' in pt:\n",
    "                        pass\n",
    "                    else:\n",
    "                        name = param[key][0][pt]\n",
    "                for pt in param[key][1]:\n",
    "                    if 'name' in pt:\n",
    "                        pass\n",
    "                    else:\n",
    "                        value = param[key][1][pt]\n",
    "                        if 'code' in value:\n",
    "                            nl = displaynl(value['code'])\n",
    "                            if nl is not None:\n",
    "                                value = nl\n",
    "                            if name == 'EXAMPLE_UCUM_UNITS':\n",
    "                                value = value['code']\n",
    "                            if name == 'MATERIAL':\n",
    "                                nlmat = displaymat(loinc)\n",
    "                                if nlmat is not None:\n",
    "                                    value = nlmat\n",
    "                print(name + ': ', value)\n",
    "    else:\n",
    "        for pt in param:\n",
    "            if pt == 'name':\n",
    "                name = param[pt]\n",
    "            else:\n",
    "                value = param[pt]\n",
    "        print(name + ': ', value)"
   ]
  },
  {
   "cell_type": "code",
   "execution_count": null,
   "id": "bb71bb1d-7d2d-49e3-bd60-916834578c87",
   "metadata": {},
   "outputs": [],
   "source": []
  }
 ],
 "metadata": {
  "colab": {
   "name": "ValueSetByTitle.ipynb",
   "provenance": []
  },
  "kernelspec": {
   "display_name": "Python 3 (ipykernel)",
   "language": "python",
   "name": "python3"
  },
  "language_info": {
   "codemirror_mode": {
    "name": "ipython",
    "version": 3
   },
   "file_extension": ".py",
   "mimetype": "text/x-python",
   "name": "python",
   "nbconvert_exporter": "python",
   "pygments_lexer": "ipython3",
   "version": "3.8.13"
  }
 },
 "nbformat": 4,
 "nbformat_minor": 5
}
