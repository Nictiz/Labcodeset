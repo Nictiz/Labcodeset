{
 "cells": [
  {
   "cell_type": "markdown",
   "metadata": {},
   "source": [
    "# Intro\n",
    "Klik bij iedere cell op 'Run'. Controleer de uitvoer. Notebooks geven een stap-voor-stap uitvoering van code, waardoor gekeken kan worden of het goed verloopt."
   ]
  },
  {
   "cell_type": "code",
   "execution_count": 5,
   "metadata": {},
   "outputs": [],
   "source": [
    "import pandas as pd\n",
    "import requests\n",
    "import xml.etree.ElementTree as ET\n",
    "\n",
    "def to_xml(df, file_name=None, root_name='root', row_name='row', name='', index_name='index', do_index=False, use_atts=False):\n",
    "    root = ET.Element(root_name, name=name)\n",
    "    tree = ET.ElementTree(root)\n",
    "    for idx, row in df.iterrows():\n",
    "        rowelm = ET.SubElement(root, row_name)\n",
    "        if do_index:\n",
    "            if use_atts:\n",
    "                rowelm.set(index_name, str(idx))\n",
    "            else:\n",
    "                colelm = ET.SubElement(rowelm, index_name)\n",
    "                colelm.text = str(idx)\n",
    "        for hdr, val in row.iteritems():\n",
    "            hdr = hdr.replace(' ', '_')\n",
    "            if pd.notnull(val):\n",
    "                val = str(val)\n",
    "            else:\n",
    "                val = ''\n",
    "            if use_atts:\n",
    "                rowelm.set(hdr, str(val))\n",
    "            else:\n",
    "                colelm = ET.SubElement(rowelm, hdr)\n",
    "                colelm.text = str(val)\n",
    "    if file_name is not None:\n",
    "        tree.write(file_name, xml_declaration=False, encoding='utf8')\n",
    "    return ET.tostring(root)"
   ]
  },
  {
   "cell_type": "markdown",
   "metadata": {},
   "source": [
    "# Lees NL vertalingen\n",
    "Download de Nederlandse vertalingen van LOINC van MLDS: https://mlds.ihtsdotools.org/#/viewReleases/viewRelease/421816\n",
    "Dit is een Excel bestand. \n",
    "Pas de bestandsnaam hieronder (versienummer) aan.\n",
    "\n",
    "Lees het bestand in."
   ]
  },
  {
   "cell_type": "code",
   "execution_count": 6,
   "metadata": {},
   "outputs": [
    {
     "data": {
      "text/html": [
       "<div>\n",
       "<style scoped>\n",
       "    .dataframe tbody tr th:only-of-type {\n",
       "        vertical-align: middle;\n",
       "    }\n",
       "\n",
       "    .dataframe tbody tr th {\n",
       "        vertical-align: top;\n",
       "    }\n",
       "\n",
       "    .dataframe thead th {\n",
       "        text-align: right;\n",
       "    }\n",
       "</style>\n",
       "<table border=\"1\" class=\"dataframe\">\n",
       "  <thead>\n",
       "    <tr style=\"text-align: right;\">\n",
       "      <th></th>\n",
       "      <th>LOINC-id</th>\n",
       "      <th>Vertaling</th>\n",
       "    </tr>\n",
       "  </thead>\n",
       "  <tbody>\n",
       "    <tr>\n",
       "      <th>0</th>\n",
       "      <td>80629-9</td>\n",
       "      <td>1, 2, 2-trimethylpropylmethylfosfonaat [massa/...</td>\n",
       "    </tr>\n",
       "    <tr>\n",
       "      <th>1</th>\n",
       "      <td>54099-7</td>\n",
       "      <td>1, 2, 2-trimethylpropylmethylfosfonaat [massa/...</td>\n",
       "    </tr>\n",
       "    <tr>\n",
       "      <th>2</th>\n",
       "      <td>17271-8</td>\n",
       "      <td>1,1,1-trichloorethaan [massa/volume] in bloed</td>\n",
       "    </tr>\n",
       "    <tr>\n",
       "      <th>3</th>\n",
       "      <td>38624-3</td>\n",
       "      <td>1,1,2-trichloorethaan [massa/volume] in lucht</td>\n",
       "    </tr>\n",
       "    <tr>\n",
       "      <th>4</th>\n",
       "      <td>38334-9</td>\n",
       "      <td>1,1,2-trichloorethaan [massa/volume] in water</td>\n",
       "    </tr>\n",
       "    <tr>\n",
       "      <th>...</th>\n",
       "      <td>...</td>\n",
       "      <td>...</td>\n",
       "    </tr>\n",
       "    <tr>\n",
       "      <th>58717</th>\n",
       "      <td>63103-6</td>\n",
       "      <td>Zwitserse kaas As.IgG [massa/volume] in serum</td>\n",
       "    </tr>\n",
       "    <tr>\n",
       "      <th>58718</th>\n",
       "      <td>56399-9</td>\n",
       "      <td>Zwitserse kaas As.IgG4 [massa/volume] in serum</td>\n",
       "    </tr>\n",
       "    <tr>\n",
       "      <th>58719</th>\n",
       "      <td>48412-1</td>\n",
       "      <td>Zygomycete sp. Ag [aanwezigheid] in weefsel en...</td>\n",
       "    </tr>\n",
       "    <tr>\n",
       "      <th>58720</th>\n",
       "      <td>55198-6</td>\n",
       "      <td>Zygositeit [identificator] in bloed of weefsel...</td>\n",
       "    </tr>\n",
       "    <tr>\n",
       "      <th>58721</th>\n",
       "      <td>97103-6</td>\n",
       "      <td>Zygositeit [type] van foetussen d.m.v. molecul...</td>\n",
       "    </tr>\n",
       "  </tbody>\n",
       "</table>\n",
       "<p>58722 rows × 2 columns</p>\n",
       "</div>"
      ],
      "text/plain": [
       "      LOINC-id                                          Vertaling\n",
       "0      80629-9  1, 2, 2-trimethylpropylmethylfosfonaat [massa/...\n",
       "1      54099-7  1, 2, 2-trimethylpropylmethylfosfonaat [massa/...\n",
       "2      17271-8      1,1,1-trichloorethaan [massa/volume] in bloed\n",
       "3      38624-3      1,1,2-trichloorethaan [massa/volume] in lucht\n",
       "4      38334-9      1,1,2-trichloorethaan [massa/volume] in water\n",
       "...        ...                                                ...\n",
       "58717  63103-6      Zwitserse kaas As.IgG [massa/volume] in serum\n",
       "58718  56399-9     Zwitserse kaas As.IgG4 [massa/volume] in serum\n",
       "58719  48412-1  Zygomycete sp. Ag [aanwezigheid] in weefsel en...\n",
       "58720  55198-6  Zygositeit [identificator] in bloed of weefsel...\n",
       "58721  97103-6  Zygositeit [type] van foetussen d.m.v. molecul...\n",
       "\n",
       "[58722 rows x 2 columns]"
      ]
     },
     "execution_count": 6,
     "metadata": {},
     "output_type": "execute_result"
    }
   ],
   "source": [
    "name = 'LOINC-nlnames-2.74-patch.xlsx'\n",
    "df = pd.read_excel(name)\n",
    "df"
   ]
  },
  {
   "cell_type": "code",
   "execution_count": 7,
   "metadata": {},
   "outputs": [
    {
     "data": {
      "text/html": [
       "<div>\n",
       "<style scoped>\n",
       "    .dataframe tbody tr th:only-of-type {\n",
       "        vertical-align: middle;\n",
       "    }\n",
       "\n",
       "    .dataframe tbody tr th {\n",
       "        vertical-align: top;\n",
       "    }\n",
       "\n",
       "    .dataframe thead th {\n",
       "        text-align: right;\n",
       "    }\n",
       "</style>\n",
       "<table border=\"1\" class=\"dataframe\">\n",
       "  <thead>\n",
       "    <tr style=\"text-align: right;\">\n",
       "      <th></th>\n",
       "      <th>id</th>\n",
       "      <th>longName</th>\n",
       "    </tr>\n",
       "  </thead>\n",
       "  <tbody>\n",
       "    <tr>\n",
       "      <th>0</th>\n",
       "      <td>80629-9</td>\n",
       "      <td>1, 2, 2-trimethylpropylmethylfosfonaat [massa/...</td>\n",
       "    </tr>\n",
       "    <tr>\n",
       "      <th>1</th>\n",
       "      <td>54099-7</td>\n",
       "      <td>1, 2, 2-trimethylpropylmethylfosfonaat [massa/...</td>\n",
       "    </tr>\n",
       "    <tr>\n",
       "      <th>2</th>\n",
       "      <td>17271-8</td>\n",
       "      <td>1,1,1-trichloorethaan [massa/volume] in bloed</td>\n",
       "    </tr>\n",
       "    <tr>\n",
       "      <th>3</th>\n",
       "      <td>38624-3</td>\n",
       "      <td>1,1,2-trichloorethaan [massa/volume] in lucht</td>\n",
       "    </tr>\n",
       "    <tr>\n",
       "      <th>4</th>\n",
       "      <td>38334-9</td>\n",
       "      <td>1,1,2-trichloorethaan [massa/volume] in water</td>\n",
       "    </tr>\n",
       "    <tr>\n",
       "      <th>5</th>\n",
       "      <td>38699-5</td>\n",
       "      <td>1,1-dichloorethaan [massa/volume] in lucht</td>\n",
       "    </tr>\n",
       "    <tr>\n",
       "      <th>6</th>\n",
       "      <td>38735-7</td>\n",
       "      <td>1,1-dichloorethyleen [massa/volume] in lucht</td>\n",
       "    </tr>\n",
       "    <tr>\n",
       "      <th>7</th>\n",
       "      <td>38292-9</td>\n",
       "      <td>1,1-dichloorethyleen [massa/volume] in water</td>\n",
       "    </tr>\n",
       "    <tr>\n",
       "      <th>8</th>\n",
       "      <td>74622-2</td>\n",
       "      <td>1,1-dimethoxy-(9Z)octadeceen [massa/massa] in ...</td>\n",
       "    </tr>\n",
       "    <tr>\n",
       "      <th>9</th>\n",
       "      <td>74623-0</td>\n",
       "      <td>1,1-dimethoxy-(9Z)octadeceen [mol/massa] in er...</td>\n",
       "    </tr>\n",
       "    <tr>\n",
       "      <th>10</th>\n",
       "      <td>74620-6</td>\n",
       "      <td>1,1-dimethoxy-(9Z)octadeceen/oleaat [massaverh...</td>\n",
       "    </tr>\n",
       "    <tr>\n",
       "      <th>11</th>\n",
       "      <td>74621-4</td>\n",
       "      <td>1,1-dimethoxy-(9Z)octadeceen/oleaat [molaire v...</td>\n",
       "    </tr>\n",
       "    <tr>\n",
       "      <th>12</th>\n",
       "      <td>74626-3</td>\n",
       "      <td>1,1-dimethoxyhexadecaan [massa/massa] in fibro...</td>\n",
       "    </tr>\n",
       "    <tr>\n",
       "      <th>13</th>\n",
       "      <td>74627-1</td>\n",
       "      <td>1,1-dimethoxyhexadecaan [mol/massa] in erytroc...</td>\n",
       "    </tr>\n",
       "    <tr>\n",
       "      <th>14</th>\n",
       "      <td>74624-8</td>\n",
       "      <td>1,1-dimethoxyhexadecaan/palmitaat [massaverhou...</td>\n",
       "    </tr>\n",
       "    <tr>\n",
       "      <th>15</th>\n",
       "      <td>74625-5</td>\n",
       "      <td>1,1-dimethoxyhexadecaan/palmitaat [molaire ver...</td>\n",
       "    </tr>\n",
       "    <tr>\n",
       "      <th>16</th>\n",
       "      <td>74618-0</td>\n",
       "      <td>1,1-dimethoxyoctadecaan [massa/massa] in fibro...</td>\n",
       "    </tr>\n",
       "    <tr>\n",
       "      <th>17</th>\n",
       "      <td>74619-8</td>\n",
       "      <td>1,1-dimethoxyoctadecaan [mol/massa] in erytroc...</td>\n",
       "    </tr>\n",
       "    <tr>\n",
       "      <th>18</th>\n",
       "      <td>74616-4</td>\n",
       "      <td>1,1-dimethoxyoctadecaan/octadecanoaat [massave...</td>\n",
       "    </tr>\n",
       "    <tr>\n",
       "      <th>19</th>\n",
       "      <td>74617-2</td>\n",
       "      <td>1,1-dimethoxyoctadecaan/octadecanoaat [molaire...</td>\n",
       "    </tr>\n",
       "  </tbody>\n",
       "</table>\n",
       "</div>"
      ],
      "text/plain": [
       "         id                                           longName\n",
       "0   80629-9  1, 2, 2-trimethylpropylmethylfosfonaat [massa/...\n",
       "1   54099-7  1, 2, 2-trimethylpropylmethylfosfonaat [massa/...\n",
       "2   17271-8      1,1,1-trichloorethaan [massa/volume] in bloed\n",
       "3   38624-3      1,1,2-trichloorethaan [massa/volume] in lucht\n",
       "4   38334-9      1,1,2-trichloorethaan [massa/volume] in water\n",
       "5   38699-5         1,1-dichloorethaan [massa/volume] in lucht\n",
       "6   38735-7       1,1-dichloorethyleen [massa/volume] in lucht\n",
       "7   38292-9       1,1-dichloorethyleen [massa/volume] in water\n",
       "8   74622-2  1,1-dimethoxy-(9Z)octadeceen [massa/massa] in ...\n",
       "9   74623-0  1,1-dimethoxy-(9Z)octadeceen [mol/massa] in er...\n",
       "10  74620-6  1,1-dimethoxy-(9Z)octadeceen/oleaat [massaverh...\n",
       "11  74621-4  1,1-dimethoxy-(9Z)octadeceen/oleaat [molaire v...\n",
       "12  74626-3  1,1-dimethoxyhexadecaan [massa/massa] in fibro...\n",
       "13  74627-1  1,1-dimethoxyhexadecaan [mol/massa] in erytroc...\n",
       "14  74624-8  1,1-dimethoxyhexadecaan/palmitaat [massaverhou...\n",
       "15  74625-5  1,1-dimethoxyhexadecaan/palmitaat [molaire ver...\n",
       "16  74618-0  1,1-dimethoxyoctadecaan [massa/massa] in fibro...\n",
       "17  74619-8  1,1-dimethoxyoctadecaan [mol/massa] in erytroc...\n",
       "18  74616-4  1,1-dimethoxyoctadecaan/octadecanoaat [massave...\n",
       "19  74617-2  1,1-dimethoxyoctadecaan/octadecanoaat [molaire..."
      ]
     },
     "execution_count": 7,
     "metadata": {},
     "output_type": "execute_result"
    }
   ],
   "source": [
    "# @id gets indexed\n",
    "df.columns = ['id', 'longName']\n",
    "df[0:20]"
   ]
  },
  {
   "cell_type": "markdown",
   "metadata": {},
   "source": [
    "# Maak XML\n",
    "De vertalingen worden geëxporteerd naar XML."
   ]
  },
  {
   "cell_type": "code",
   "execution_count": 10,
   "metadata": {},
   "outputs": [],
   "source": [
    "xml = to_xml(df, 'nllongnames.xml', root_name='nllongnames', name=name, row_name='concept', use_atts=True)"
   ]
  },
  {
   "cell_type": "markdown",
   "metadata": {},
   "source": [
    "# Opslaan\n",
    "Vul target, usernaam, password in. Let op: eerst de cell runnen, dan waarden invullen. Cell niet opnieuw runnen, dat zet de default waarden terug."
   ]
  },
  {
   "cell_type": "code",
   "execution_count": 12,
   "metadata": {},
   "outputs": [
    {
     "data": {
      "application/vnd.jupyter.widget-view+json": {
       "model_id": "ba55fa8c8ce0471fabf8dfa04b979154",
       "version_major": 2,
       "version_minor": 0
      },
      "text/plain": [
       "VBox(children=(Dropdown(description='Target:', options=(('Productie', 'https://labterminologie.nl/lab/nllongna…"
      ]
     },
     "metadata": {},
     "output_type": "display_data"
    }
   ],
   "source": [
    "import ipywidgets as widgets\n",
    "targeturi = widgets.Dropdown(\n",
    "    options=[('Productie', 'https://labterminologie.nl/lab/nllongnames'),\n",
    "             ('Acceptatie', 'https://terminologie.test-nictiz.nl/lab/nllongnames'),\n",
    "             ('8877', 'http://localhost:8877/exist/apps/lab/nllongnames')],\n",
    "    description='Target:',\n",
    ")\n",
    "usr = widgets.Text(description='Username')\n",
    "pwd = widgets.Password(description='Password')\n",
    "widgets.VBox([\n",
    "  targeturi, usr, pwd\n",
    "])"
   ]
  },
  {
   "cell_type": "code",
   "execution_count": 17,
   "metadata": {},
   "outputs": [
    {
     "data": {
      "text/plain": [
       "'https://labterminologie.nl/lab/nllongnames'"
      ]
     },
     "execution_count": 17,
     "metadata": {},
     "output_type": "execute_result"
    }
   ],
   "source": [
    "targeturi.value"
   ]
  },
  {
   "cell_type": "markdown",
   "metadata": {},
   "source": [
    "\n",
    "# Upload naar de server\n",
    "Verwachte uitvoer: (HTTP status) 201, dat is 'Created'"
   ]
  },
  {
   "cell_type": "code",
   "execution_count": 19,
   "metadata": {},
   "outputs": [
    {
     "name": "stdout",
     "output_type": "stream",
     "text": [
      "413 Request Entity Too Large\n"
     ]
    }
   ],
   "source": [
    "resp = requests.put(targeturi.value, data=xml, auth=requests.auth.HTTPBasicAuth(usr.value, pwd.value))\n",
    "pwd.value = ''\n",
    "print(resp.status_code, resp.reason)"
   ]
  },
  {
   "cell_type": "markdown",
   "metadata": {
    "tags": []
   },
   "source": [
    "# Controleer de uitvoer\n",
    "Onderstaande links voeren naar de prerelease tabel zoals zojuist geüpload.\n",
    "\n",
    "[productie](http://labterminologie.nl/lab/nllongnames)\n",
    "\n",
    "[acceptatie](https://terminologie.test-nictiz.nl/lab/nllongnames)\n",
    "\n",
    "[lokaal 8877](http://localhost:8877/exist/apps/lab-data/data/nllongnames.xml)"
   ]
  },
  {
   "cell_type": "code",
   "execution_count": null,
   "metadata": {},
   "outputs": [],
   "source": []
  }
 ],
 "metadata": {
  "kernelspec": {
   "display_name": "Python 3 (ipykernel)",
   "language": "python",
   "name": "python3"
  },
  "language_info": {
   "codemirror_mode": {
    "name": "ipython",
    "version": 3
   },
   "file_extension": ".py",
   "mimetype": "text/x-python",
   "name": "python",
   "nbconvert_exporter": "python",
   "pygments_lexer": "ipython3",
   "version": "3.8.13"
  }
 },
 "nbformat": 4,
 "nbformat_minor": 4
}
